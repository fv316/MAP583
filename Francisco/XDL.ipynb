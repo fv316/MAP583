{
 "cells": [
  {
   "cell_type": "markdown",
   "execution_count": null,
   "metadata": {},
   "outputs": [],
   "source": [
    "## ECG heartbeat classification"
   ]
  },
  {
   "cell_type": "markdown",
   "execution_count": null,
   "metadata": {},
   "outputs": [],
   "source": [
    "### Loading data and libraries"
   ]
  },
  {
   "cell_type": "code",
   "execution_count": null,
   "metadata": {},
   "outputs": [],
   "source": [
    "import pandas as pd\n",
    "import plotly\n",
    "import plotly.graph_objects as go\n",
    "import torch\n",
    "import matplotlib.pyplot as plt\n",
    "plotly.offline.init_notebook_mode(connected=True)\n",
    "import numpy as np"
   ]
  },
  {
   "cell_type": "code",
   "execution_count": null,
   "metadata": {},
   "outputs": [],
   "source": [
    "df_train = pd.read_csv(\"../ecg_data/ecg/mitbih_train.csv\", header=None)\n",
    "df_test = pd.read_csv(\"../ecg_data/ecg/mitbih_test.csv\", header=None)"
   ]
  },
  {
   "cell_type": "code",
   "execution_count": null,
   "metadata": {},
   "outputs": [],
   "source": [
    "df_train[187] = df_train[187].astype(int)\n",
    "\n",
    "df_train.head()\n",
    "df_train.info()\n",
    "df_train.describe()"
   ]
  },
  {
   "cell_type": "code",
   "execution_count": null,
   "metadata": {},
   "outputs": [],
   "source": [
    "repartition = df_train[187].astype(int).value_counts()\n",
    "print(repartition)\n",
    "classes={0:\"Normal\",\n",
    "         1:\"Artial Premature\",\n",
    "         2:\"Premature ventricular contraction\",\n",
    "         3:\"Fusion of ventricular and normal\",\n",
    "         4:\"Undetermined\"}"
   ]
  },
  {
   "cell_type": "markdown",
   "execution_count": null,
   "metadata": {},
   "outputs": [],
   "source": [
    "### Data visualisation"
   ]
  },
  {
   "cell_type": "code",
   "execution_count": null,
   "metadata": {},
   "outputs": [],
   "source": [
    "labels = [classes[i] for i in list(repartition.index)]\n",
    "values = repartition.values\n",
    "fig = go.Figure(data=[go.Pie(labels=labels, values=values)])\n",
    "fig.update_layout(title=\"Data Partitioning By ECG Signal Type\")\n",
    "fig.update_layout(legend_title='<b> Legend </b>')\n",
    "fig.update_layout(\n",
    "    font=dict(\n",
    "        family=\"Courier New, monospace\",\n",
    "        size=18,\n",
    "    )\n",
    ")\n",
    "fig.show()\n",
    "plotly.offline.plot(fig, filename='graphs/pie.html')"
   ]
  },
  {
   "cell_type": "code",
   "execution_count": null,
   "metadata": {},
   "outputs": [],
   "source": [
    "index_0 = np.argwhere(df_train[187].astype(int).values == 0)[0][0]\n",
    "index_1 = np.argwhere(df_train[187].astype(int).values == 1)[0][0]\n",
    "index_2 = np.argwhere(df_train[187].astype(int).values == 2)[0][0]\n",
    "index_3 = np.argwhere(df_train[187].astype(int).values == 3)[0][0]\n",
    "index_4 = np.argwhere(df_train[187].astype(int).values == 4)[0][0]\n",
    "signal_0 = df_train.iloc[index_0].values[:187]\n",
    "signal_1 = df_train.iloc[index_1].values[:187]\n",
    "signal_2 = df_train.iloc[index_2].values[:187]\n",
    "signal_3 = df_train.iloc[index_3].values[:187]\n",
    "signal_4 = df_train.iloc[index_4].values[:187]"
   ]
  },
  {
   "cell_type": "code",
   "execution_count": null,
   "metadata": {},
   "outputs": [],
   "source": [
    "\n",
    "# sampling frequency 125Hz -> 0.008 inverse sampling frequency\n",
    "isf = 0.008\n",
    "x_axis = np.linspace(0, 187, 187) * isf\n",
    "\n",
    "fig = go.Figure()\n",
    "\n",
    "# Add traces\n",
    "fig.add_trace(go.Scatter(x=x_axis, y=signal_0, mode='lines+markers', name=classes[0]))\n",
    "fig.add_trace(go.Scatter(x=x_axis, y=signal_1, mode='lines+markers', name=classes[1]))\n",
    "fig.add_trace(go.Scatter(x=x_axis, y=signal_2, mode='lines+markers', name=classes[2]))\n",
    "fig.add_trace(go.Scatter(x=x_axis, y=signal_3, mode='lines+markers', name=classes[3]))\n",
    "fig.add_trace(go.Scatter(x=x_axis, y=signal_4, mode='lines+markers', name=classes[4]))\n",
    "\n",
    "fig.update_layout(title='Example ECG Signal Categories', xaxis_title='Time (s)', yaxis_title='Amplitude')\n",
    "fig.update_layout(legend_title='<b> Legend </b>')\n",
    "fig.update_layout(\n",
    "    font=dict(\n",
    "        family=\"Courier New, monospace\",\n",
    "        size=18,\n",
    "    )\n",
    ")\n",
    "\n",
    "fig.show()\n",
    "plotly.offline.plot(fig, filename='graphs/signals.html')"
   ]
  },
  {
   "cell_type": "code",
   "execution_count": null,
   "metadata": {},
   "outputs": [],
   "source": [
    "torch_tensor = torch.tensor(df_train[df_train.columns[:-1]].values)\n",
    "torch_labels = torch.tensor(df_train[df_train.columns[-1]].values)\n",
    "train_dataset = [[torch_tensor[i].float().unsqueeze(0), torch_labels[i].long()] for i in range(torch_tensor.shape[0])]\n",
    "\n",
    "torch_tensor = torch.tensor(df_test[df_test.columns[:-1]].values)\n",
    "torch_labels = torch.tensor(df_test[df_test.columns[-1]].values)\n",
    "test_dataset = [[torch_tensor[i].float().unsqueeze(0), torch_labels[i].long()] for i in range(torch_tensor.shape[0])]"
   ]
  },
  {
   "cell_type": "code",
   "execution_count": null,
   "metadata": {},
   "outputs": [],
   "source": [
    "train_loader = torch.utils.data.DataLoader(train_dataset, batch_size=1, shuffle=True)\n",
    "test_loader = torch.utils.data.DataLoader(test_dataset, batch_size=1, shuffle=True)"
   ]
  },
  {
   "cell_type": "code",
   "execution_count": null,
   "metadata": {},
   "outputs": [],
   "source": [
    "import torch.nn as nn\n",
    "import torch.nn.functional as F\n",
    "\n",
    "class classifier(nn.Module):\n",
    "    \n",
    "    def __init__(self):\n",
    "        super(classifier, self).__init__()\n",
    "        self.conv1 = nn.Sequential(\n",
    "            nn.Conv1d(in_channels=1, out_channels=8, kernel_size=7, stride=1),\n",
    "            nn.ReLU(),\n",
    "            nn.MaxPool1d(kernel_size=3, stride=3))\n",
    "        self.conv2 = nn.Sequential(\n",
    "            nn.Conv1d(8, 32, kernel_size=7, stride=1),\n",
    "            nn.ReLU(),\n",
    "            nn.MaxPool1d(kernel_size=3, stride=3))   \n",
    "        self.fc = nn.Linear(in_features=576, out_features=5)\n",
    "\n",
    "    def forward(self,x):\n",
    "        x = self.conv1(x)\n",
    "        x = self.conv2(x)\n",
    "        x = x.view(1, -1)\n",
    "        x = self.fc(x)\n",
    "        return F.log_softmax(x, dim=1)"
   ]
  },
  {
   "cell_type": "code",
   "execution_count": null,
   "metadata": {},
   "outputs": [],
   "source": [
    "def test(model,data_loader):\n",
    "    model.train(False)\n",
    "\n",
    "    running_corrects = 0.0\n",
    "    running_loss = 0.0\n",
    "    size = 0\n",
    "\n",
    "    for data in data_loader:\n",
    "        inputs, labels = data   \n",
    "        bs = labels.size(0)\n",
    "                \n",
    "        outputs = model(inputs)\n",
    "        classes = labels\n",
    "        loss = loss_fn(outputs,classes.type(torch.LongTensor)) \n",
    "        _,preds = torch.max(outputs,1)\n",
    "        running_corrects += torch.sum(preds == classes.data.type(torch.LongTensor))\n",
    "        running_loss += loss.data\n",
    "        size += bs\n",
    "    print('Test - Loss: {:.4f} Acc: {:.4f}'.format(running_loss / size, running_corrects.item() / size))"
   ]
  },
  {
   "cell_type": "code",
   "execution_count": null,
   "metadata": {},
   "outputs": [],
   "source": [
    "def train(model,data_loader,loss_fn,optimizer,n_epochs=1):\n",
    "    model.train(True)\n",
    "    loss_train = np.zeros(n_epochs)\n",
    "    acc_train = np.zeros(n_epochs)\n",
    "    for epoch_num in range(n_epochs):\n",
    "        running_corrects = 0.0\n",
    "        running_loss = 0.0\n",
    "        size = 0\n",
    "\n",
    "        for data in data_loader:\n",
    "            inputs, labels = data\n",
    "            bs = labels.size(0)\n",
    "            outputs = model(inputs)\n",
    "            loss = loss_fn(outputs,labels)       \n",
    "            optimizer.zero_grad()\n",
    "            loss.backward()\n",
    "            optimizer.step()\n",
    "            _,preds = torch.max(outputs,1)\n",
    "            running_corrects += torch.sum(preds == labels.data.type(torch.LongTensor))\n",
    "            running_loss += loss.data\n",
    "            size += bs\n",
    "        epoch_loss = running_loss.item() / size\n",
    "        epoch_acc = running_corrects.item() / size\n",
    "        loss_train[epoch_num] = epoch_loss\n",
    "        acc_train[epoch_num] = epoch_acc\n",
    "        print('Train - Loss: {:.4f} Acc: {:.4f}'.format(epoch_loss, epoch_acc))\n",
    "        test(model, test_loader)\n",
    "    return loss_train, acc_train"
   ]
  },
  {
   "cell_type": "code",
   "execution_count": null,
   "metadata": {},
   "outputs": [],
   "source": [
    "conv_class = classifier()\n",
    "loss_fn = nn.NLLLoss()\n",
    "learning_rate = 1e-3\n",
    "optimizer_cl = torch.optim.Adam(conv_class.parameters(), lr=learning_rate)\n",
    "l_t, a_t = train(conv_class,train_loader,loss_fn,optimizer_cl,n_epochs = 2)"
   ]
  }
 ],
 "metadata": {
  "accelerator": "GPU",
  "colab": {
   "authorship_tag": "ABX9TyOl1e3nnKGB9r5GNAD+boY7",
   "collapsed_sections": [],
   "name": "XDL.ipynb",
   "provenance": [],
   "toc_visible": true
  },
  "kernelspec": {
   "display_name": "Python 3.7.5 64-bit ('dl': conda)",
   "language": "python",
   "name": "python37564bitdlconda6df076abd3074490aa76f83dcd34fe45"
  },
  "language_info": {
   "codemirror_mode": {
    "name": "ipython",
    "version": 3
   },
   "file_extension": ".py",
   "mimetype": "text/x-python",
   "name": "python",
   "nbconvert_exporter": "python",
   "pygments_lexer": "ipython3",
   "version": "3.7.5-final"
  }
 },
 "nbformat": 4,
 "nbformat_minor": 1
}